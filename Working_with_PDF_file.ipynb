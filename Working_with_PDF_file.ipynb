{
  "nbformat": 4,
  "nbformat_minor": 0,
  "metadata": {
    "colab": {
      "name": "Working_with_PDF_file.ipynb",
      "provenance": [],
      "authorship_tag": "ABX9TyO+Bq+qzXAjDMsKrXvzrONP",
      "include_colab_link": true
    },
    "kernelspec": {
      "name": "python3",
      "display_name": "Python 3"
    }
  },
  "cells": [
    {
      "cell_type": "markdown",
      "metadata": {
        "id": "view-in-github",
        "colab_type": "text"
      },
      "source": [
        "<a href=\"https://colab.research.google.com/github/olvsegun/articles_and_webinars/blob/master/Working_with_PDF_file.ipynb\" target=\"_parent\"><img src=\"https://colab.research.google.com/assets/colab-badge.svg\" alt=\"Open In Colab\"/></a>"
      ]
    },
    {
      "cell_type": "markdown",
      "metadata": {
        "id": "tmn2lAcM_xO9",
        "colab_type": "text"
      },
      "source": [
        "**Working with PDF files**\n",
        "\n",
        "PDF files are great way of exchanging documents reliably, without the fear of mis-formatting during exchange. However, extracting the information of PDFs can sometimes be a pain. Unlike flat files that are easy to manipulate in python (for being structured), PDF files are not as easy to manipulate.\n",
        "\n",
        "This short tutorial wil cover\n",
        "\n",
        "\n",
        "\n",
        "\n",
        "*   Loading tables from PDFs into Pandas DataFrame\n",
        "*   Loading PDF into python environment\n",
        "*   Extracting text from PDF \n",
        "*   Using Pandas with PDFs\n",
        "\n",
        "\n",
        "We are going to be using three libraries, `pandas` which I assume you are already familiar with, `PyPDF2` and `tabula`.\n",
        "\n",
        "Before we go on, we have to be sure we have these libraries installed\n",
        "\n",
        "```pip install PyPDF2```\n",
        "\n",
        "```pip install tabula-py```\n",
        "\n",
        "`tabula` is dependent on `Java` and `python 3.7`, so be sure to have them. You can check for the Java environment you have on your environment by running\n",
        "\n",
        "```!java -version```\n",
        "\n",
        "\n",
        "If all of these have been installed, its time to start working with PDFS!\n",
        "\n",
        "\n",
        "\n"
      ]
    },
    {
      "cell_type": "markdown",
      "metadata": {
        "id": "TdTmfmKVTplF",
        "colab_type": "text"
      },
      "source": [
        "**Loading tables from PDFs into Pandas DataFrame**\n",
        "\n",
        "To read a PDF file, we use the `read_pdf()` method of `tabula`"
      ]
    },
    {
      "cell_type": "code",
      "metadata": {
        "id": "IWlk2psDW9YF",
        "colab_type": "code",
        "outputId": "6bf06721-a137-4286-e4c0-6706873c0f38",
        "colab": {
          "base_uri": "https://localhost:8080/",
          "height": 194
        }
      },
      "source": [
        "!pip install PyPDF2"
      ],
      "execution_count": 0,
      "outputs": [
        {
          "output_type": "stream",
          "text": [
            "Collecting PyPDF2\n",
            "\u001b[?25l  Downloading https://files.pythonhosted.org/packages/b4/01/68fcc0d43daf4c6bdbc6b33cc3f77bda531c86b174cac56ef0ffdb96faab/PyPDF2-1.26.0.tar.gz (77kB)\n",
            "\u001b[K     |████████████████████████████████| 81kB 2.3MB/s \n",
            "\u001b[?25hBuilding wheels for collected packages: PyPDF2\n",
            "  Building wheel for PyPDF2 (setup.py) ... \u001b[?25l\u001b[?25hdone\n",
            "  Created wheel for PyPDF2: filename=PyPDF2-1.26.0-cp36-none-any.whl size=61086 sha256=281be3520165ac111932f6ab9f6b0315d4f4073fd32f3517d8bd121661958fb0\n",
            "  Stored in directory: /root/.cache/pip/wheels/53/84/19/35bc977c8bf5f0c23a8a011aa958acd4da4bbd7a229315c1b7\n",
            "Successfully built PyPDF2\n",
            "Installing collected packages: PyPDF2\n",
            "Successfully installed PyPDF2-1.26.0\n"
          ],
          "name": "stdout"
        }
      ]
    },
    {
      "cell_type": "code",
      "metadata": {
        "id": "IEItbw52jaBY",
        "colab_type": "code",
        "outputId": "75d37c16-ad0a-4c4a-fac4-504129baace1",
        "colab": {
          "base_uri": "https://localhost:8080/",
          "height": 230
        }
      },
      "source": [
        "!pip install tabula-py"
      ],
      "execution_count": 0,
      "outputs": [
        {
          "output_type": "stream",
          "text": [
            "Collecting tabula-py\n",
            "\u001b[?25l  Downloading https://files.pythonhosted.org/packages/53/a4/66add528eca00398af98f181772006750019eb9f2d68c7c6fdd53ba661c5/tabula_py-2.1.0-py3-none-any.whl (10.4MB)\n",
            "\u001b[K     |████████████████████████████████| 10.4MB 2.6MB/s \n",
            "\u001b[?25hRequirement already satisfied: numpy in /usr/local/lib/python3.6/dist-packages (from tabula-py) (1.18.3)\n",
            "Collecting distro\n",
            "  Downloading https://files.pythonhosted.org/packages/25/b7/b3c4270a11414cb22c6352ebc7a83aaa3712043be29daa05018fd5a5c956/distro-1.5.0-py2.py3-none-any.whl\n",
            "Requirement already satisfied: pandas>=0.25.3 in /usr/local/lib/python3.6/dist-packages (from tabula-py) (1.0.3)\n",
            "Requirement already satisfied: python-dateutil>=2.6.1 in /usr/local/lib/python3.6/dist-packages (from pandas>=0.25.3->tabula-py) (2.8.1)\n",
            "Requirement already satisfied: pytz>=2017.2 in /usr/local/lib/python3.6/dist-packages (from pandas>=0.25.3->tabula-py) (2018.9)\n",
            "Requirement already satisfied: six>=1.5 in /usr/local/lib/python3.6/dist-packages (from python-dateutil>=2.6.1->pandas>=0.25.3->tabula-py) (1.12.0)\n",
            "Installing collected packages: distro, tabula-py\n",
            "Successfully installed distro-1.5.0 tabula-py-2.1.0\n"
          ],
          "name": "stdout"
        }
      ]
    },
    {
      "cell_type": "code",
      "metadata": {
        "id": "OjisN9khN-mw",
        "colab_type": "code",
        "outputId": "95e7568a-07e9-4f23-d150-2bd6d0dc8d6d",
        "colab": {
          "base_uri": "https://localhost:8080/",
          "height": 383
        }
      },
      "source": [
        "import tabula as tb\n",
        "import pandas as pd\n",
        "import numpy as np\n",
        "import matplotlib.pyplot as plt\n",
        "plt.style.use('ggplot')\n",
        "\n",
        "%matplotlib inline\n"
      ],
      "execution_count": 0,
      "outputs": [
        {
          "output_type": "error",
          "ename": "ModuleNotFoundError",
          "evalue": "ignored",
          "traceback": [
            "\u001b[0;31m---------------------------------------------------------------------------\u001b[0m",
            "\u001b[0;31mModuleNotFoundError\u001b[0m                       Traceback (most recent call last)",
            "\u001b[0;32m<ipython-input-1-e5dca06be9f1>\u001b[0m in \u001b[0;36m<module>\u001b[0;34m()\u001b[0m\n\u001b[0;32m----> 1\u001b[0;31m \u001b[0;32mimport\u001b[0m \u001b[0mtabula\u001b[0m \u001b[0;32mas\u001b[0m \u001b[0mtb\u001b[0m\u001b[0;34m\u001b[0m\u001b[0;34m\u001b[0m\u001b[0m\n\u001b[0m\u001b[1;32m      2\u001b[0m \u001b[0;32mimport\u001b[0m \u001b[0mpandas\u001b[0m \u001b[0;32mas\u001b[0m \u001b[0mpd\u001b[0m\u001b[0;34m\u001b[0m\u001b[0;34m\u001b[0m\u001b[0m\n\u001b[1;32m      3\u001b[0m \u001b[0;32mimport\u001b[0m \u001b[0mnumpy\u001b[0m \u001b[0;32mas\u001b[0m \u001b[0mnp\u001b[0m\u001b[0;34m\u001b[0m\u001b[0;34m\u001b[0m\u001b[0m\n\u001b[1;32m      4\u001b[0m \u001b[0;32mimport\u001b[0m \u001b[0mmatplotlib\u001b[0m\u001b[0;34m.\u001b[0m\u001b[0mpyplot\u001b[0m \u001b[0;32mas\u001b[0m \u001b[0mplt\u001b[0m\u001b[0;34m\u001b[0m\u001b[0;34m\u001b[0m\u001b[0m\n\u001b[1;32m      5\u001b[0m \u001b[0mplt\u001b[0m\u001b[0;34m.\u001b[0m\u001b[0mstyle\u001b[0m\u001b[0;34m.\u001b[0m\u001b[0muse\u001b[0m\u001b[0;34m(\u001b[0m\u001b[0;34m'ggplot'\u001b[0m\u001b[0;34m)\u001b[0m\u001b[0;34m\u001b[0m\u001b[0;34m\u001b[0m\u001b[0m\n",
            "\u001b[0;31mModuleNotFoundError\u001b[0m: No module named 'tabula'",
            "",
            "\u001b[0;31m---------------------------------------------------------------------------\u001b[0;32m\nNOTE: If your import is failing due to a missing package, you can\nmanually install dependencies using either !pip or !apt.\n\nTo view examples of installing some common dependencies, click the\n\"Open Examples\" button below.\n\u001b[0;31m---------------------------------------------------------------------------\u001b[0m\n"
          ]
        }
      ]
    },
    {
      "cell_type": "code",
      "metadata": {
        "id": "01NdDfzkXQor",
        "colab_type": "code",
        "outputId": "93d50573-1758-4f6e-fbe1-4049e36051ca",
        "colab": {
          "base_uri": "https://localhost:8080/",
          "height": 743
        }
      },
      "source": [
        "url = \"https://drive.google.com/open?id=1ebSPitmhTXPBGAbuYJOl3HQQdLuVNHdB\"\n",
        "local_path = \"table_data.pdf\"\n",
        "pdf = tb.read_pdf(local_path)\n",
        "pdf"
      ],
      "execution_count": 0,
      "outputs": [
        {
          "output_type": "stream",
          "text": [
            "'pages' argument isn't specified.Will extract only from page 1 by default.\n",
            "Got stderr: Apr 16, 2020 12:27:31 PM org.apache.pdfbox.pdmodel.font.PDType1Font <init>\n",
            "WARNING: Using fallback font LiberationSans for base font Symbol\n",
            "Apr 16, 2020 12:27:32 PM org.apache.pdfbox.pdmodel.font.PDType1Font <init>\n",
            "WARNING: Using fallback font LiberationSans for base font ZapfDingbats\n",
            "\n"
          ],
          "name": "stderr"
        },
        {
          "output_type": "execute_result",
          "data": {
            "text/plain": [
              "[     mpg  cyl   disp   hp  drat     wt   qsec  vs  am  gear\n",
              " 0   21.0    6  160.0  110  3.90  2.620  16.46   0   1     4\n",
              " 1   21.0    6  160.0  110  3.90  2.875  17.02   0   1     4\n",
              " 2   22.8    4  108.0   93  3.85  2.320  18.61   1   1     4\n",
              " 3   21.4    6  258.0  110  3.08  3.215  19.44   1   0     3\n",
              " 4   18.7    8  360.0  175  3.15  3.440  17.02   0   0     3\n",
              " 5   18.1    6  225.0  105  2.76  3.460  20.22   1   0     3\n",
              " 6   14.3    8  360.0  245  3.21  3.570  15.84   0   0     3\n",
              " 7   24.4    4  146.7   62  3.69  3.190  20.00   1   0     4\n",
              " 8   22.8    4  140.8   95  3.92  3.150  22.90   1   0     4\n",
              " 9   19.2    6  167.6  123  3.92  3.440  18.30   1   0     4\n",
              " 10  17.8    6  167.6  123  3.92  3.440  18.90   1   0     4\n",
              " 11  16.4    8  275.8  180  3.07  4.070  17.40   0   0     3\n",
              " 12  17.3    8  275.8  180  3.07  3.730  17.60   0   0     3\n",
              " 13  15.2    8  275.8  180  3.07  3.780  18.00   0   0     3\n",
              " 14  10.4    8  472.0  205  2.93  5.250  17.98   0   0     3\n",
              " 15  10.4    8  460.0  215  3.00  5.424  17.82   0   0     3\n",
              " 16  14.7    8  440.0  230  3.23  5.345  17.42   0   0     3\n",
              " 17  32.4    4   78.7   66  4.08  2.200  19.47   1   1     4\n",
              " 18  30.4    4   75.7   52  4.93  1.615  18.52   1   1     4\n",
              " 19  33.9    4   71.1   65  4.22  1.835  19.90   1   1     4\n",
              " 20  21.5    4  120.1   97  3.70  2.465  20.01   1   0     3\n",
              " 21  15.5    8  318.0  150  2.76  3.520  16.87   0   0     3\n",
              " 22  15.2    8  304.0  150  3.15  3.435  17.30   0   0     3\n",
              " 23  13.3    8  350.0  245  3.73  3.840  15.41   0   0     3\n",
              " 24  19.2    8  400.0  175  3.08  3.845  17.05   0   0     3\n",
              " 25  27.3    4   79.0   66  4.08  1.935  18.90   1   1     4\n",
              " 26  26.0    4  120.3   91  4.43  2.140  16.70   0   1     5\n",
              " 27  30.4    4   95.1  113  3.77  1.513  16.90   1   1     5\n",
              " 28  15.8    8  351.0  264  4.22  3.170  14.50   0   1     5\n",
              " 29  19.7    6  145.0  175  3.62  2.770  15.50   0   1     5\n",
              " 30  15.0    8  301.0  335  3.54  3.570  14.60   0   1     5]"
            ]
          },
          "metadata": {
            "tags": []
          },
          "execution_count": 19
        }
      ]
    },
    {
      "cell_type": "markdown",
      "metadata": {
        "id": "1RvAIVfdYWNj",
        "colab_type": "text"
      },
      "source": [
        "As we have not specified what page to read from, it only reads the first page. Also if you have a look at the output, it is a list. The reason for this is that by default, `multiple_tables` is set to `True`, which means if there are multiple tables on a page, itreturns a list of all the tables on that page. What we can do is extract by index."
      ]
    },
    {
      "cell_type": "code",
      "metadata": {
        "id": "03Vx6lXuXZAM",
        "colab_type": "code",
        "outputId": "9695ccd4-3c00-4493-b804-6212f8226591",
        "colab": {
          "base_uri": "https://localhost:8080/",
          "height": 198
        }
      },
      "source": [
        "cars = pdf[0]\n",
        "cars.head()"
      ],
      "execution_count": 0,
      "outputs": [
        {
          "output_type": "execute_result",
          "data": {
            "text/html": [
              "<div>\n",
              "<style scoped>\n",
              "    .dataframe tbody tr th:only-of-type {\n",
              "        vertical-align: middle;\n",
              "    }\n",
              "\n",
              "    .dataframe tbody tr th {\n",
              "        vertical-align: top;\n",
              "    }\n",
              "\n",
              "    .dataframe thead th {\n",
              "        text-align: right;\n",
              "    }\n",
              "</style>\n",
              "<table border=\"1\" class=\"dataframe\">\n",
              "  <thead>\n",
              "    <tr style=\"text-align: right;\">\n",
              "      <th></th>\n",
              "      <th>mpg</th>\n",
              "      <th>cyl</th>\n",
              "      <th>disp</th>\n",
              "      <th>hp</th>\n",
              "      <th>drat</th>\n",
              "      <th>wt</th>\n",
              "      <th>qsec</th>\n",
              "      <th>vs</th>\n",
              "      <th>am</th>\n",
              "      <th>gear</th>\n",
              "    </tr>\n",
              "  </thead>\n",
              "  <tbody>\n",
              "    <tr>\n",
              "      <th>0</th>\n",
              "      <td>21.0</td>\n",
              "      <td>6</td>\n",
              "      <td>160.0</td>\n",
              "      <td>110</td>\n",
              "      <td>3.90</td>\n",
              "      <td>2.620</td>\n",
              "      <td>16.46</td>\n",
              "      <td>0</td>\n",
              "      <td>1</td>\n",
              "      <td>4</td>\n",
              "    </tr>\n",
              "    <tr>\n",
              "      <th>1</th>\n",
              "      <td>21.0</td>\n",
              "      <td>6</td>\n",
              "      <td>160.0</td>\n",
              "      <td>110</td>\n",
              "      <td>3.90</td>\n",
              "      <td>2.875</td>\n",
              "      <td>17.02</td>\n",
              "      <td>0</td>\n",
              "      <td>1</td>\n",
              "      <td>4</td>\n",
              "    </tr>\n",
              "    <tr>\n",
              "      <th>2</th>\n",
              "      <td>22.8</td>\n",
              "      <td>4</td>\n",
              "      <td>108.0</td>\n",
              "      <td>93</td>\n",
              "      <td>3.85</td>\n",
              "      <td>2.320</td>\n",
              "      <td>18.61</td>\n",
              "      <td>1</td>\n",
              "      <td>1</td>\n",
              "      <td>4</td>\n",
              "    </tr>\n",
              "    <tr>\n",
              "      <th>3</th>\n",
              "      <td>21.4</td>\n",
              "      <td>6</td>\n",
              "      <td>258.0</td>\n",
              "      <td>110</td>\n",
              "      <td>3.08</td>\n",
              "      <td>3.215</td>\n",
              "      <td>19.44</td>\n",
              "      <td>1</td>\n",
              "      <td>0</td>\n",
              "      <td>3</td>\n",
              "    </tr>\n",
              "    <tr>\n",
              "      <th>4</th>\n",
              "      <td>18.7</td>\n",
              "      <td>8</td>\n",
              "      <td>360.0</td>\n",
              "      <td>175</td>\n",
              "      <td>3.15</td>\n",
              "      <td>3.440</td>\n",
              "      <td>17.02</td>\n",
              "      <td>0</td>\n",
              "      <td>0</td>\n",
              "      <td>3</td>\n",
              "    </tr>\n",
              "  </tbody>\n",
              "</table>\n",
              "</div>"
            ],
            "text/plain": [
              "    mpg  cyl   disp   hp  drat     wt   qsec  vs  am  gear\n",
              "0  21.0    6  160.0  110  3.90  2.620  16.46   0   1     4\n",
              "1  21.0    6  160.0  110  3.90  2.875  17.02   0   1     4\n",
              "2  22.8    4  108.0   93  3.85  2.320  18.61   1   1     4\n",
              "3  21.4    6  258.0  110  3.08  3.215  19.44   1   0     3\n",
              "4  18.7    8  360.0  175  3.15  3.440  17.02   0   0     3"
            ]
          },
          "metadata": {
            "tags": []
          },
          "execution_count": 20
        }
      ]
    },
    {
      "cell_type": "markdown",
      "metadata": {
        "id": "EKhlI8FLYrF0",
        "colab_type": "text"
      },
      "source": [
        "Now we have it in a `DataFrame`. We can now explore our data "
      ]
    },
    {
      "cell_type": "code",
      "metadata": {
        "id": "Q1PbP5a6YpAY",
        "colab_type": "code",
        "outputId": "f66fb7ba-baf1-4453-9966-342ca5692670",
        "colab": {
          "base_uri": "https://localhost:8080/",
          "height": 301
        }
      },
      "source": [
        "cars.plot(kind='scatter', x='mpg', y='disp')"
      ],
      "execution_count": 0,
      "outputs": [
        {
          "output_type": "execute_result",
          "data": {
            "text/plain": [
              "<matplotlib.axes._subplots.AxesSubplot at 0x7f6be81c5b00>"
            ]
          },
          "metadata": {
            "tags": []
          },
          "execution_count": 21
        },
        {
          "output_type": "display_data",
          "data": {
            "image/png": "[encoded data removed]",
            "text/plain": [
              "<Figure size 432x288 with 1 Axes>"
            ]
          },
          "metadata": {
            "tags": [],
            "needs_background": "light"
          }
        }
      ]
    },
    {
      "cell_type": "markdown",
      "metadata": {
        "id": "aDh-hJ7hTFmF",
        "colab_type": "text"
      },
      "source": [
        "If you want to load from all pages in one go, then you need to pass the argument `pages='all'`. This reads from all pages into one list."
      ]
    },
    {
      "cell_type": "code",
      "metadata": {
        "id": "O60oVnb4bjsX",
        "colab_type": "code",
        "outputId": "15fe6a5a-6d37-4a9a-fe81-58d21b64c8bf",
        "colab": {
          "base_uri": "https://localhost:8080/",
          "height": 132
        }
      },
      "source": [
        "all_pages = tb.read_pdf(local_path, pages='all', stream=True)\n",
        "len(all_pages)"
      ],
      "execution_count": 0,
      "outputs": [
        {
          "output_type": "stream",
          "text": [
            "Got stderr: Apr 16, 2020 12:29:09 PM org.apache.pdfbox.pdmodel.font.PDType1Font <init>\n",
            "WARNING: Using fallback font LiberationSans for base font Symbol\n",
            "Apr 16, 2020 12:29:09 PM org.apache.pdfbox.pdmodel.font.PDType1Font <init>\n",
            "WARNING: Using fallback font LiberationSans for base font ZapfDingbats\n",
            "\n"
          ],
          "name": "stderr"
        },
        {
          "output_type": "execute_result",
          "data": {
            "text/plain": [
              "4"
            ]
          },
          "metadata": {
            "tags": []
          },
          "execution_count": 26
        }
      ]
    },
    {
      "cell_type": "code",
      "metadata": {
        "id": "vG5Helnz5tfK",
        "colab_type": "code",
        "outputId": "fe4ded1f-36c3-4025-ed3f-6ee57ce310b4",
        "colab": {
          "base_uri": "https://localhost:8080/",
          "height": 1000
        }
      },
      "source": [
        "print(all_pages)"
      ],
      "execution_count": 0,
      "outputs": [
        {
          "output_type": "stream",
          "text": [
            "[             Unnamed: 0   mpg  cyl   disp   hp  ...   qsec  vs  am  gear  carb\n",
            "0             Mazda RX4  21.0    6  160.0  110  ...  16.46   0   1     4     4\n",
            "1         Mazda RX4 Wag  21.0    6  160.0  110  ...  17.02   0   1     4     4\n",
            "2            Datsun 710  22.8    4  108.0   93  ...  18.61   1   1     4     1\n",
            "3        Hornet 4 Drive  21.4    6  258.0  110  ...  19.44   1   0     3     1\n",
            "4     Hornet Sportabout  18.7    8  360.0  175  ...  17.02   0   0     3     2\n",
            "5               Valiant  18.1    6  225.0  105  ...  20.22   1   0     3     1\n",
            "6            Duster 360  14.3    8  360.0  245  ...  15.84   0   0     3     4\n",
            "7             Merc 240D  24.4    4  146.7   62  ...  20.00   1   0     4     2\n",
            "8              Merc 230  22.8    4  140.8   95  ...  22.90   1   0     4     2\n",
            "9              Merc 280  19.2    6  167.6  123  ...  18.30   1   0     4     4\n",
            "10            Merc 280C  17.8    6  167.6  123  ...  18.90   1   0     4     4\n",
            "11           Merc 450SE  16.4    8  275.8  180  ...  17.40   0   0     3     3\n",
            "12           Merc 450SL  17.3    8  275.8  180  ...  17.60   0   0     3     3\n",
            "13          Merc 450SLC  15.2    8  275.8  180  ...  18.00   0   0     3     3\n",
            "14   Cadillac Fleetwood  10.4    8  472.0  205  ...  17.98   0   0     3     4\n",
            "15  Lincoln Continental  10.4    8  460.0  215  ...  17.82   0   0     3     4\n",
            "16    Chrysler Imperial  14.7    8  440.0  230  ...  17.42   0   0     3     4\n",
            "17             Fiat 128  32.4    4   78.7   66  ...  19.47   1   1     4     1\n",
            "18          Honda Civic  30.4    4   75.7   52  ...  18.52   1   1     4     2\n",
            "19       Toyota Corolla  33.9    4   71.1   65  ...  19.90   1   1     4     1\n",
            "20        Toyota Corona  21.5    4  120.1   97  ...  20.01   1   0     3     1\n",
            "21     Dodge Challenger  15.5    8  318.0  150  ...  16.87   0   0     3     2\n",
            "22          AMC Javelin  15.2    8  304.0  150  ...  17.30   0   0     3     2\n",
            "23           Camaro Z28  13.3    8  350.0  245  ...  15.41   0   0     3     4\n",
            "24     Pontiac Firebird  19.2    8  400.0  175  ...  17.05   0   0     3     2\n",
            "25            Fiat X1-9  27.3    4   79.0   66  ...  18.90   1   1     4     1\n",
            "26        Porsche 914-2  26.0    4  120.3   91  ...  16.70   0   1     5     2\n",
            "27         Lotus Europa  30.4    4   95.1  113  ...  16.90   1   1     5     2\n",
            "28       Ford Pantera L  15.8    8  351.0  264  ...  14.50   0   1     5     4\n",
            "29         Ferrari Dino  19.7    6  145.0  175  ...  15.50   0   1     5     6\n",
            "30        Maserati Bora  15.0    8  301.0  335  ...  14.60   0   1     5     8\n",
            "31           Volvo 142E  21.4    4  121.0  109  ...  18.60   1   1     4     2\n",
            "\n",
            "[32 rows x 12 columns],    Sepal.Length  Sepal.Width  Petal.Length  Petal.Width Species\n",
            "0           5.1          3.5           1.4          0.2  setosa\n",
            "1           4.9          3.0           1.4          0.2  setosa\n",
            "2           4.7          3.2           1.3          0.2  setosa\n",
            "3           4.6          3.1           1.5          0.2  setosa\n",
            "4           5.0          3.6           1.4          0.2  setosa\n",
            "5           5.4          3.9           1.7          0.4  setosa,    Unnamed: 0  Sepal.Length  Sepal.Width  Petal.Length  Petal.Width    Species\n",
            "0         145           6.7          3.3           5.7          2.5  virginica\n",
            "1         146           6.7          3.0           5.2          2.3  virginica\n",
            "2         147           6.3          2.5           5.0          1.9  virginica\n",
            "3         148           6.5          3.0           5.2          2.0  virginica\n",
            "4         149           6.2          3.4           5.4          2.3  virginica\n",
            "5         150           5.9          3.0           5.1          1.8  virginica,      len supp  dose\n",
            "0    4.2   VC   0.5\n",
            "1   11.5   VC   0.5\n",
            "2    7.3   VC   0.5\n",
            "3    5.8   VC   0.5\n",
            "4    6.4   VC   0.5\n",
            "5   10.0   VC   0.5\n",
            "6   11.2   VC   0.5\n",
            "7   11.2   VC   0.5\n",
            "8    5.2   VC   0.5\n",
            "9    7.0   VC   0.5\n",
            "10  16.5   VC   1.0\n",
            "11  16.5   VC   1.0\n",
            "12  15.2   VC   1.0\n",
            "13  17.3   VC   1.0\n",
            "14  22.5   VC   1.0]\n"
          ],
          "name": "stdout"
        }
      ]
    },
    {
      "cell_type": "code",
      "metadata": {
        "id": "OrxLCIry9c_-",
        "colab_type": "code",
        "outputId": "80628908-8a57-4d37-91a0-1041c267fcdf",
        "colab": {
          "base_uri": "https://localhost:8080/",
          "height": 1000
        }
      },
      "source": [
        "for page in all_pages:\n",
        "  print(page)"
      ],
      "execution_count": 0,
      "outputs": [
        {
          "output_type": "stream",
          "text": [
            "             Unnamed: 0   mpg  cyl   disp   hp  ...   qsec  vs  am  gear  carb\n",
            "0             Mazda RX4  21.0    6  160.0  110  ...  16.46   0   1     4     4\n",
            "1         Mazda RX4 Wag  21.0    6  160.0  110  ...  17.02   0   1     4     4\n",
            "2            Datsun 710  22.8    4  108.0   93  ...  18.61   1   1     4     1\n",
            "3        Hornet 4 Drive  21.4    6  258.0  110  ...  19.44   1   0     3     1\n",
            "4     Hornet Sportabout  18.7    8  360.0  175  ...  17.02   0   0     3     2\n",
            "5               Valiant  18.1    6  225.0  105  ...  20.22   1   0     3     1\n",
            "6            Duster 360  14.3    8  360.0  245  ...  15.84   0   0     3     4\n",
            "7             Merc 240D  24.4    4  146.7   62  ...  20.00   1   0     4     2\n",
            "8              Merc 230  22.8    4  140.8   95  ...  22.90   1   0     4     2\n",
            "9              Merc 280  19.2    6  167.6  123  ...  18.30   1   0     4     4\n",
            "10            Merc 280C  17.8    6  167.6  123  ...  18.90   1   0     4     4\n",
            "11           Merc 450SE  16.4    8  275.8  180  ...  17.40   0   0     3     3\n",
            "12           Merc 450SL  17.3    8  275.8  180  ...  17.60   0   0     3     3\n",
            "13          Merc 450SLC  15.2    8  275.8  180  ...  18.00   0   0     3     3\n",
            "14   Cadillac Fleetwood  10.4    8  472.0  205  ...  17.98   0   0     3     4\n",
            "15  Lincoln Continental  10.4    8  460.0  215  ...  17.82   0   0     3     4\n",
            "16    Chrysler Imperial  14.7    8  440.0  230  ...  17.42   0   0     3     4\n",
            "17             Fiat 128  32.4    4   78.7   66  ...  19.47   1   1     4     1\n",
            "18          Honda Civic  30.4    4   75.7   52  ...  18.52   1   1     4     2\n",
            "19       Toyota Corolla  33.9    4   71.1   65  ...  19.90   1   1     4     1\n",
            "20        Toyota Corona  21.5    4  120.1   97  ...  20.01   1   0     3     1\n",
            "21     Dodge Challenger  15.5    8  318.0  150  ...  16.87   0   0     3     2\n",
            "22          AMC Javelin  15.2    8  304.0  150  ...  17.30   0   0     3     2\n",
            "23           Camaro Z28  13.3    8  350.0  245  ...  15.41   0   0     3     4\n",
            "24     Pontiac Firebird  19.2    8  400.0  175  ...  17.05   0   0     3     2\n",
            "25            Fiat X1-9  27.3    4   79.0   66  ...  18.90   1   1     4     1\n",
            "26        Porsche 914-2  26.0    4  120.3   91  ...  16.70   0   1     5     2\n",
            "27         Lotus Europa  30.4    4   95.1  113  ...  16.90   1   1     5     2\n",
            "28       Ford Pantera L  15.8    8  351.0  264  ...  14.50   0   1     5     4\n",
            "29         Ferrari Dino  19.7    6  145.0  175  ...  15.50   0   1     5     6\n",
            "30        Maserati Bora  15.0    8  301.0  335  ...  14.60   0   1     5     8\n",
            "31           Volvo 142E  21.4    4  121.0  109  ...  18.60   1   1     4     2\n",
            "\n",
            "[32 rows x 12 columns]\n",
            "   Sepal.Length  Sepal.Width  Petal.Length  Petal.Width Species\n",
            "0           5.1          3.5           1.4          0.2  setosa\n",
            "1           4.9          3.0           1.4          0.2  setosa\n",
            "2           4.7          3.2           1.3          0.2  setosa\n",
            "3           4.6          3.1           1.5          0.2  setosa\n",
            "4           5.0          3.6           1.4          0.2  setosa\n",
            "5           5.4          3.9           1.7          0.4  setosa\n",
            "   Unnamed: 0  Sepal.Length  Sepal.Width  Petal.Length  Petal.Width    Species\n",
            "0         145           6.7          3.3           5.7          2.5  virginica\n",
            "1         146           6.7          3.0           5.2          2.3  virginica\n",
            "2         147           6.3          2.5           5.0          1.9  virginica\n",
            "3         148           6.5          3.0           5.2          2.0  virginica\n",
            "4         149           6.2          3.4           5.4          2.3  virginica\n",
            "5         150           5.9          3.0           5.1          1.8  virginica\n",
            "     len supp  dose\n",
            "0    4.2   VC   0.5\n",
            "1   11.5   VC   0.5\n",
            "2    7.3   VC   0.5\n",
            "3    5.8   VC   0.5\n",
            "4    6.4   VC   0.5\n",
            "5   10.0   VC   0.5\n",
            "6   11.2   VC   0.5\n",
            "7   11.2   VC   0.5\n",
            "8    5.2   VC   0.5\n",
            "9    7.0   VC   0.5\n",
            "10  16.5   VC   1.0\n",
            "11  16.5   VC   1.0\n",
            "12  15.2   VC   1.0\n",
            "13  17.3   VC   1.0\n",
            "14  22.5   VC   1.0\n"
          ],
          "name": "stdout"
        }
      ]
    },
    {
      "cell_type": "markdown",
      "metadata": {
        "id": "et7jf_tETnhu",
        "colab_type": "text"
      },
      "source": [
        "You can also specify the page you want to read from by passing the page number to the `pages` argument."
      ]
    },
    {
      "cell_type": "code",
      "metadata": {
        "id": "3XE9BaRO9k1b",
        "colab_type": "code",
        "outputId": "53ca45e2-c767-416f-f497-6d787e8c436f",
        "colab": {
          "base_uri": "https://localhost:8080/",
          "height": 294
        }
      },
      "source": [
        "from_page_1 = tb.read_pdf(local_path, pages=1)\n",
        "from_page_1[0].head()"
      ],
      "execution_count": 0,
      "outputs": [
        {
          "output_type": "stream",
          "text": [
            "Got stderr: Apr 16, 2020 1:57:51 PM org.apache.pdfbox.pdmodel.font.PDType1Font <init>\n",
            "WARNING: Using fallback font LiberationSans for base font Symbol\n",
            "Apr 16, 2020 1:57:51 PM org.apache.pdfbox.pdmodel.font.PDType1Font <init>\n",
            "WARNING: Using fallback font LiberationSans for base font ZapfDingbats\n",
            "\n"
          ],
          "name": "stderr"
        },
        {
          "output_type": "execute_result",
          "data": {
            "text/html": [
              "<div>\n",
              "<style scoped>\n",
              "    .dataframe tbody tr th:only-of-type {\n",
              "        vertical-align: middle;\n",
              "    }\n",
              "\n",
              "    .dataframe tbody tr th {\n",
              "        vertical-align: top;\n",
              "    }\n",
              "\n",
              "    .dataframe thead th {\n",
              "        text-align: right;\n",
              "    }\n",
              "</style>\n",
              "<table border=\"1\" class=\"dataframe\">\n",
              "  <thead>\n",
              "    <tr style=\"text-align: right;\">\n",
              "      <th></th>\n",
              "      <th>mpg</th>\n",
              "      <th>cyl</th>\n",
              "      <th>disp</th>\n",
              "      <th>hp</th>\n",
              "      <th>drat</th>\n",
              "      <th>wt</th>\n",
              "      <th>qsec</th>\n",
              "      <th>vs</th>\n",
              "      <th>am</th>\n",
              "      <th>gear</th>\n",
              "    </tr>\n",
              "  </thead>\n",
              "  <tbody>\n",
              "    <tr>\n",
              "      <th>0</th>\n",
              "      <td>21.0</td>\n",
              "      <td>6</td>\n",
              "      <td>160.0</td>\n",
              "      <td>110</td>\n",
              "      <td>3.90</td>\n",
              "      <td>2.620</td>\n",
              "      <td>16.46</td>\n",
              "      <td>0</td>\n",
              "      <td>1</td>\n",
              "      <td>4</td>\n",
              "    </tr>\n",
              "    <tr>\n",
              "      <th>1</th>\n",
              "      <td>21.0</td>\n",
              "      <td>6</td>\n",
              "      <td>160.0</td>\n",
              "      <td>110</td>\n",
              "      <td>3.90</td>\n",
              "      <td>2.875</td>\n",
              "      <td>17.02</td>\n",
              "      <td>0</td>\n",
              "      <td>1</td>\n",
              "      <td>4</td>\n",
              "    </tr>\n",
              "    <tr>\n",
              "      <th>2</th>\n",
              "      <td>22.8</td>\n",
              "      <td>4</td>\n",
              "      <td>108.0</td>\n",
              "      <td>93</td>\n",
              "      <td>3.85</td>\n",
              "      <td>2.320</td>\n",
              "      <td>18.61</td>\n",
              "      <td>1</td>\n",
              "      <td>1</td>\n",
              "      <td>4</td>\n",
              "    </tr>\n",
              "    <tr>\n",
              "      <th>3</th>\n",
              "      <td>21.4</td>\n",
              "      <td>6</td>\n",
              "      <td>258.0</td>\n",
              "      <td>110</td>\n",
              "      <td>3.08</td>\n",
              "      <td>3.215</td>\n",
              "      <td>19.44</td>\n",
              "      <td>1</td>\n",
              "      <td>0</td>\n",
              "      <td>3</td>\n",
              "    </tr>\n",
              "    <tr>\n",
              "      <th>4</th>\n",
              "      <td>18.7</td>\n",
              "      <td>8</td>\n",
              "      <td>360.0</td>\n",
              "      <td>175</td>\n",
              "      <td>3.15</td>\n",
              "      <td>3.440</td>\n",
              "      <td>17.02</td>\n",
              "      <td>0</td>\n",
              "      <td>0</td>\n",
              "      <td>3</td>\n",
              "    </tr>\n",
              "  </tbody>\n",
              "</table>\n",
              "</div>"
            ],
            "text/plain": [
              "    mpg  cyl   disp   hp  drat     wt   qsec  vs  am  gear\n",
              "0  21.0    6  160.0  110  3.90  2.620  16.46   0   1     4\n",
              "1  21.0    6  160.0  110  3.90  2.875  17.02   0   1     4\n",
              "2  22.8    4  108.0   93  3.85  2.320  18.61   1   1     4\n",
              "3  21.4    6  258.0  110  3.08  3.215  19.44   1   0     3\n",
              "4  18.7    8  360.0  175  3.15  3.440  17.02   0   0     3"
            ]
          },
          "metadata": {
            "tags": []
          },
          "execution_count": 30
        }
      ]
    },
    {
      "cell_type": "code",
      "metadata": {
        "id": "FFxVe40BR-L9",
        "colab_type": "code",
        "outputId": "0305f569-864d-4940-95c2-8a2389161da8",
        "colab": {
          "base_uri": "https://localhost:8080/",
          "height": 380
        }
      },
      "source": [
        "from_page_2 = tb.read_pdf(local_path, pages=)\n",
        "from_page_1[0].head()"
      ],
      "execution_count": 0,
      "outputs": [
        {
          "output_type": "stream",
          "text": [
            "Got stderr: Apr 16, 2020 2:10:08 PM org.apache.pdfbox.pdmodel.font.PDType1Font <init>\n",
            "WARNING: Using fallback font LiberationSans for base font Symbol\n",
            "Apr 16, 2020 2:10:08 PM org.apache.pdfbox.pdmodel.font.PDType1Font <init>\n",
            "WARNING: Using fallback font LiberationSans for base font ZapfDingbats\n",
            "\n"
          ],
          "name": "stderr"
        },
        {
          "output_type": "execute_result",
          "data": {
            "text/plain": [
              "[   Sepal.Length  Sepal.Width  Petal.Length  Petal.Width Species\n",
              " 0           5.1          3.5           1.4          0.2  setosa\n",
              " 1           4.9          3.0           1.4          0.2  setosa\n",
              " 2           4.7          3.2           1.3          0.2  setosa\n",
              " 3           4.6          3.1           1.5          0.2  setosa\n",
              " 4           5.0          3.6           1.4          0.2  setosa\n",
              " 5           5.4          3.9           1.7          0.4  setosa,\n",
              "    Unnamed: 0  Sepal.Length  Sepal.Width  Petal.Length  Petal.Width    Species\n",
              " 0         145           6.7          3.3           5.7          2.5  virginica\n",
              " 1         146           6.7          3.0           5.2          2.3  virginica\n",
              " 2         147           6.3          2.5           5.0          1.9  virginica\n",
              " 3         148           6.5          3.0           5.2          2.0  virginica\n",
              " 4         149           6.2          3.4           5.4          2.3  virginica\n",
              " 5         150           5.9          3.0           5.1          1.8  virginica]"
            ]
          },
          "metadata": {
            "tags": []
          },
          "execution_count": 32
        }
      ]
    },
    {
      "cell_type": "markdown",
      "metadata": {
        "id": "2wqCfbCaU8u1",
        "colab_type": "text"
      },
      "source": [
        "If there are multiple tables on the page, then you can select the table of interest using indexing.\n",
        "\n",
        "Let us select the second table on the page."
      ]
    },
    {
      "cell_type": "code",
      "metadata": {
        "id": "C0Ro1z3CU6Tu",
        "colab_type": "code",
        "outputId": "cdfdde89-aa01-4eb9-aaf8-45f0b5085305",
        "colab": {
          "base_uri": "https://localhost:8080/",
          "height": 228
        }
      },
      "source": [
        "from_page_2[1]"
      ],
      "execution_count": 0,
      "outputs": [
        {
          "output_type": "execute_result",
          "data": {
            "text/html": [
              "<div>\n",
              "<style scoped>\n",
              "    .dataframe tbody tr th:only-of-type {\n",
              "        vertical-align: middle;\n",
              "    }\n",
              "\n",
              "    .dataframe tbody tr th {\n",
              "        vertical-align: top;\n",
              "    }\n",
              "\n",
              "    .dataframe thead th {\n",
              "        text-align: right;\n",
              "    }\n",
              "</style>\n",
              "<table border=\"1\" class=\"dataframe\">\n",
              "  <thead>\n",
              "    <tr style=\"text-align: right;\">\n",
              "      <th></th>\n",
              "      <th>Unnamed: 0</th>\n",
              "      <th>Sepal.Length</th>\n",
              "      <th>Sepal.Width</th>\n",
              "      <th>Petal.Length</th>\n",
              "      <th>Petal.Width</th>\n",
              "      <th>Species</th>\n",
              "    </tr>\n",
              "  </thead>\n",
              "  <tbody>\n",
              "    <tr>\n",
              "      <th>0</th>\n",
              "      <td>145</td>\n",
              "      <td>6.7</td>\n",
              "      <td>3.3</td>\n",
              "      <td>5.7</td>\n",
              "      <td>2.5</td>\n",
              "      <td>virginica</td>\n",
              "    </tr>\n",
              "    <tr>\n",
              "      <th>1</th>\n",
              "      <td>146</td>\n",
              "      <td>6.7</td>\n",
              "      <td>3.0</td>\n",
              "      <td>5.2</td>\n",
              "      <td>2.3</td>\n",
              "      <td>virginica</td>\n",
              "    </tr>\n",
              "    <tr>\n",
              "      <th>2</th>\n",
              "      <td>147</td>\n",
              "      <td>6.3</td>\n",
              "      <td>2.5</td>\n",
              "      <td>5.0</td>\n",
              "      <td>1.9</td>\n",
              "      <td>virginica</td>\n",
              "    </tr>\n",
              "    <tr>\n",
              "      <th>3</th>\n",
              "      <td>148</td>\n",
              "      <td>6.5</td>\n",
              "      <td>3.0</td>\n",
              "      <td>5.2</td>\n",
              "      <td>2.0</td>\n",
              "      <td>virginica</td>\n",
              "    </tr>\n",
              "    <tr>\n",
              "      <th>4</th>\n",
              "      <td>149</td>\n",
              "      <td>6.2</td>\n",
              "      <td>3.4</td>\n",
              "      <td>5.4</td>\n",
              "      <td>2.3</td>\n",
              "      <td>virginica</td>\n",
              "    </tr>\n",
              "    <tr>\n",
              "      <th>5</th>\n",
              "      <td>150</td>\n",
              "      <td>5.9</td>\n",
              "      <td>3.0</td>\n",
              "      <td>5.1</td>\n",
              "      <td>1.8</td>\n",
              "      <td>virginica</td>\n",
              "    </tr>\n",
              "  </tbody>\n",
              "</table>\n",
              "</div>"
            ],
            "text/plain": [
              "   Unnamed: 0  Sepal.Length  Sepal.Width  Petal.Length  Petal.Width    Species\n",
              "0         145           6.7          3.3           5.7          2.5  virginica\n",
              "1         146           6.7          3.0           5.2          2.3  virginica\n",
              "2         147           6.3          2.5           5.0          1.9  virginica\n",
              "3         148           6.5          3.0           5.2          2.0  virginica\n",
              "4         149           6.2          3.4           5.4          2.3  virginica\n",
              "5         150           5.9          3.0           5.1          1.8  virginica"
            ]
          },
          "metadata": {
            "tags": []
          },
          "execution_count": 33
        }
      ]
    },
    {
      "cell_type": "code",
      "metadata": {
        "id": "zOsoJo9SUzBP",
        "colab_type": "code",
        "outputId": "a941ee0e-00bf-4c95-8840-5a31172558c9",
        "colab": {
          "base_uri": "https://localhost:8080/",
          "height": 36
        }
      },
      "source": [
        "furniture = tb.read_pdf(\"Furniture_sales.pdf\", pages='1-20', stream=True, pandas_options={\"header\": [0, 1, 2, 3]})\n",
        "len(furniture)"
      ],
      "execution_count": 0,
      "outputs": [
        {
          "output_type": "execute_result",
          "data": {
            "text/plain": [
              "20"
            ]
          },
          "metadata": {
            "tags": []
          },
          "execution_count": 80
        }
      ]
    },
    {
      "cell_type": "code",
      "metadata": {
        "id": "72tYI1p0ULsQ",
        "colab_type": "code",
        "outputId": "72030ff5-bd85-414a-e559-a8470a87a250",
        "colab": {
          "base_uri": "https://localhost:8080/",
          "height": 1000
        }
      },
      "source": [
        "furniture[1]"
      ],
      "execution_count": 0,
      "outputs": [
        {
          "output_type": "execute_result",
          "data": {
            "text/html": [
              "<div>\n",
              "<style scoped>\n",
              "    .dataframe tbody tr th:only-of-type {\n",
              "        vertical-align: middle;\n",
              "    }\n",
              "\n",
              "    .dataframe tbody tr th {\n",
              "        vertical-align: top;\n",
              "    }\n",
              "\n",
              "    .dataframe thead th {\n",
              "        text-align: right;\n",
              "    }\n",
              "</style>\n",
              "<table border=\"1\" class=\"dataframe\">\n",
              "  <thead>\n",
              "    <tr style=\"text-align: right;\">\n",
              "      <th></th>\n",
              "      <th>0</th>\n",
              "      <th>1</th>\n",
              "      <th>2</th>\n",
              "      <th>3</th>\n",
              "    </tr>\n",
              "  </thead>\n",
              "  <tbody>\n",
              "    <tr>\n",
              "      <th>0</th>\n",
              "      <td>Owen, Robert</td>\n",
              "      <td>Chameleon Couch</td>\n",
              "      <td>SW</td>\n",
              "      <td>Home Emporium</td>\n",
              "    </tr>\n",
              "    <tr>\n",
              "      <th>1</th>\n",
              "      <td>Owen, Robert</td>\n",
              "      <td>Chameleon Couch</td>\n",
              "      <td>SW</td>\n",
              "      <td>Home Emporium</td>\n",
              "    </tr>\n",
              "    <tr>\n",
              "      <th>2</th>\n",
              "      <td>Leon, Emily</td>\n",
              "      <td>Media Armoire</td>\n",
              "      <td>SW</td>\n",
              "      <td>Ellington Designs</td>\n",
              "    </tr>\n",
              "    <tr>\n",
              "      <th>3</th>\n",
              "      <td>Leon, Emily</td>\n",
              "      <td>Media Armoire</td>\n",
              "      <td>SW</td>\n",
              "      <td>Ellington Designs</td>\n",
              "    </tr>\n",
              "    <tr>\n",
              "      <th>4</th>\n",
              "      <td>Vaughn, Harlon</td>\n",
              "      <td>Bamboo Coffee Table</td>\n",
              "      <td>NE</td>\n",
              "      <td>B&amp;B Spaces</td>\n",
              "    </tr>\n",
              "    <tr>\n",
              "      <th>5</th>\n",
              "      <td>Vaughn, Harlon</td>\n",
              "      <td>Bamboo Coffee Table</td>\n",
              "      <td>NE</td>\n",
              "      <td>B&amp;B Spaces</td>\n",
              "    </tr>\n",
              "    <tr>\n",
              "      <th>6</th>\n",
              "      <td>Vaughn, Harlon</td>\n",
              "      <td>Bamboo End Table</td>\n",
              "      <td>NE</td>\n",
              "      <td>B&amp;B Spaces</td>\n",
              "    </tr>\n",
              "    <tr>\n",
              "      <th>7</th>\n",
              "      <td>Vaughn, Harlon</td>\n",
              "      <td>Bamboo End Table</td>\n",
              "      <td>NE</td>\n",
              "      <td>B&amp;B Spaces</td>\n",
              "    </tr>\n",
              "    <tr>\n",
              "      <th>8</th>\n",
              "      <td>Kelly, Icelita</td>\n",
              "      <td>Bamboo End Table</td>\n",
              "      <td>SW</td>\n",
              "      <td>B&amp;B Spaces</td>\n",
              "    </tr>\n",
              "    <tr>\n",
              "      <th>9</th>\n",
              "      <td>Leon, Emily</td>\n",
              "      <td>Chameleon Couch</td>\n",
              "      <td>SW</td>\n",
              "      <td>Home Emporium</td>\n",
              "    </tr>\n",
              "    <tr>\n",
              "      <th>10</th>\n",
              "      <td>Livingston, Lynette</td>\n",
              "      <td>Bamboo Coffee Table</td>\n",
              "      <td>NE</td>\n",
              "      <td>Home USA</td>\n",
              "    </tr>\n",
              "    <tr>\n",
              "      <th>11</th>\n",
              "      <td>Leon, Emily</td>\n",
              "      <td>Chameleon Couch</td>\n",
              "      <td>SW</td>\n",
              "      <td>Ellington Designs</td>\n",
              "    </tr>\n",
              "    <tr>\n",
              "      <th>12</th>\n",
              "      <td>Maynard, Susan</td>\n",
              "      <td>Bamboo End Table</td>\n",
              "      <td>NE</td>\n",
              "      <td>B&amp;B Spaces</td>\n",
              "    </tr>\n",
              "    <tr>\n",
              "      <th>13</th>\n",
              "      <td>Owen, Robert</td>\n",
              "      <td>Chameleon Couch</td>\n",
              "      <td>SW</td>\n",
              "      <td>B&amp;B Spaces</td>\n",
              "    </tr>\n",
              "    <tr>\n",
              "      <th>14</th>\n",
              "      <td>Vaughn, Harlon</td>\n",
              "      <td>Bamboo End Table</td>\n",
              "      <td>NE</td>\n",
              "      <td>B&amp;B Spaces</td>\n",
              "    </tr>\n",
              "    <tr>\n",
              "      <th>15</th>\n",
              "      <td>Livingston, Lynette</td>\n",
              "      <td>Chameleon Couch</td>\n",
              "      <td>NE</td>\n",
              "      <td>Home Emporium</td>\n",
              "    </tr>\n",
              "    <tr>\n",
              "      <th>16</th>\n",
              "      <td>Livingston, Lynette</td>\n",
              "      <td>Chameleon Couch</td>\n",
              "      <td>NE</td>\n",
              "      <td>B&amp;B Spaces</td>\n",
              "    </tr>\n",
              "    <tr>\n",
              "      <th>17</th>\n",
              "      <td>Christensen, Jill</td>\n",
              "      <td>Bamboo Coffee Table</td>\n",
              "      <td>NW</td>\n",
              "      <td>Home Emporium</td>\n",
              "    </tr>\n",
              "    <tr>\n",
              "      <th>18</th>\n",
              "      <td>Livingston, Lynette</td>\n",
              "      <td>Chameleon Couch</td>\n",
              "      <td>NE</td>\n",
              "      <td>Home Emporium</td>\n",
              "    </tr>\n",
              "    <tr>\n",
              "      <th>19</th>\n",
              "      <td>Owen, Robert</td>\n",
              "      <td>Captain Recliner</td>\n",
              "      <td>SW</td>\n",
              "      <td>B&amp;B Spaces</td>\n",
              "    </tr>\n",
              "    <tr>\n",
              "      <th>20</th>\n",
              "      <td>Byrd, Asa</td>\n",
              "      <td>Captain Recliner</td>\n",
              "      <td>SE</td>\n",
              "      <td>Home USA</td>\n",
              "    </tr>\n",
              "    <tr>\n",
              "      <th>21</th>\n",
              "      <td>Owen, Robert</td>\n",
              "      <td>Chameleon Couch</td>\n",
              "      <td>SW</td>\n",
              "      <td>B&amp;B Spaces</td>\n",
              "    </tr>\n",
              "    <tr>\n",
              "      <th>22</th>\n",
              "      <td>Kelly, Icelita</td>\n",
              "      <td>Captain Recliner</td>\n",
              "      <td>SW</td>\n",
              "      <td>Home Emporium</td>\n",
              "    </tr>\n",
              "    <tr>\n",
              "      <th>23</th>\n",
              "      <td>Owen, Robert</td>\n",
              "      <td>Media Armoire</td>\n",
              "      <td>SW</td>\n",
              "      <td>Home USA</td>\n",
              "    </tr>\n",
              "    <tr>\n",
              "      <th>24</th>\n",
              "      <td>Owen, Robert</td>\n",
              "      <td>Chameleon Couch</td>\n",
              "      <td>SW</td>\n",
              "      <td>Ellington Designs</td>\n",
              "    </tr>\n",
              "    <tr>\n",
              "      <th>25</th>\n",
              "      <td>Norman, Rita</td>\n",
              "      <td>Bamboo Coffee Table</td>\n",
              "      <td>SE</td>\n",
              "      <td>Ellington Designs</td>\n",
              "    </tr>\n",
              "    <tr>\n",
              "      <th>26</th>\n",
              "      <td>Maynard, Susan</td>\n",
              "      <td>Media Armoire</td>\n",
              "      <td>NE</td>\n",
              "      <td>B&amp;B Spaces</td>\n",
              "    </tr>\n",
              "    <tr>\n",
              "      <th>27</th>\n",
              "      <td>Norman, Rita</td>\n",
              "      <td>Bamboo End Table</td>\n",
              "      <td>SE</td>\n",
              "      <td>Home USA</td>\n",
              "    </tr>\n",
              "    <tr>\n",
              "      <th>28</th>\n",
              "      <td>Owen, Robert</td>\n",
              "      <td>Bamboo End Table</td>\n",
              "      <td>SW</td>\n",
              "      <td>Ellington Designs</td>\n",
              "    </tr>\n",
              "    <tr>\n",
              "      <th>29</th>\n",
              "      <td>Byrd, Asa</td>\n",
              "      <td>Bamboo Coffee Table</td>\n",
              "      <td>SE</td>\n",
              "      <td>Ellington Designs</td>\n",
              "    </tr>\n",
              "    <tr>\n",
              "      <th>30</th>\n",
              "      <td>Owen, Robert</td>\n",
              "      <td>Media Armoire</td>\n",
              "      <td>SW</td>\n",
              "      <td>Fabulous Homes</td>\n",
              "    </tr>\n",
              "    <tr>\n",
              "      <th>31</th>\n",
              "      <td>Kelly, Icelita</td>\n",
              "      <td>Chameleon Couch</td>\n",
              "      <td>SW</td>\n",
              "      <td>Ellington Designs</td>\n",
              "    </tr>\n",
              "    <tr>\n",
              "      <th>32</th>\n",
              "      <td>Leon, Emily</td>\n",
              "      <td>Bamboo Coffee Table</td>\n",
              "      <td>SW</td>\n",
              "      <td>Home USA</td>\n",
              "    </tr>\n",
              "    <tr>\n",
              "      <th>33</th>\n",
              "      <td>Vaughn, Harlon</td>\n",
              "      <td>Captain Recliner</td>\n",
              "      <td>NE</td>\n",
              "      <td>Fabulous Homes</td>\n",
              "    </tr>\n",
              "    <tr>\n",
              "      <th>34</th>\n",
              "      <td>Leon, Emily</td>\n",
              "      <td>Captain Recliner</td>\n",
              "      <td>SW</td>\n",
              "      <td>B&amp;B Spaces</td>\n",
              "    </tr>\n",
              "    <tr>\n",
              "      <th>35</th>\n",
              "      <td>Christensen, Jill</td>\n",
              "      <td>Captain Recliner</td>\n",
              "      <td>NW</td>\n",
              "      <td>Home Emporium</td>\n",
              "    </tr>\n",
              "    <tr>\n",
              "      <th>36</th>\n",
              "      <td>Leon, Emily</td>\n",
              "      <td>Captain Recliner</td>\n",
              "      <td>SW</td>\n",
              "      <td>Home Emporium</td>\n",
              "    </tr>\n",
              "    <tr>\n",
              "      <th>37</th>\n",
              "      <td>Owen, Robert</td>\n",
              "      <td>Chameleon Couch</td>\n",
              "      <td>SW</td>\n",
              "      <td>Home Emporium</td>\n",
              "    </tr>\n",
              "    <tr>\n",
              "      <th>38</th>\n",
              "      <td>Vaughn, Harlon</td>\n",
              "      <td>Media Armoire</td>\n",
              "      <td>NE</td>\n",
              "      <td>Ellington Designs</td>\n",
              "    </tr>\n",
              "    <tr>\n",
              "      <th>39</th>\n",
              "      <td>Maynard, Susan</td>\n",
              "      <td>Chameleon Couch</td>\n",
              "      <td>NE</td>\n",
              "      <td>Ellington Designs</td>\n",
              "    </tr>\n",
              "    <tr>\n",
              "      <th>40</th>\n",
              "      <td>Vaughn, Harlon</td>\n",
              "      <td>Bamboo End Table</td>\n",
              "      <td>NE</td>\n",
              "      <td>Ellington Designs</td>\n",
              "    </tr>\n",
              "    <tr>\n",
              "      <th>41</th>\n",
              "      <td>Christensen, Jill</td>\n",
              "      <td>Bamboo End Table</td>\n",
              "      <td>NW</td>\n",
              "      <td>Fabulous Homes</td>\n",
              "    </tr>\n",
              "    <tr>\n",
              "      <th>42</th>\n",
              "      <td>Livingston, Lynette</td>\n",
              "      <td>Captain Recliner</td>\n",
              "      <td>NE</td>\n",
              "      <td>Fabulous Homes</td>\n",
              "    </tr>\n",
              "    <tr>\n",
              "      <th>43</th>\n",
              "      <td>Byrd, Asa</td>\n",
              "      <td>Bamboo End Table</td>\n",
              "      <td>SE</td>\n",
              "      <td>Ellington Designs</td>\n",
              "    </tr>\n",
              "    <tr>\n",
              "      <th>44</th>\n",
              "      <td>Livingston, Lynette</td>\n",
              "      <td>Bamboo Coffee Table</td>\n",
              "      <td>NE</td>\n",
              "      <td>Home USA</td>\n",
              "    </tr>\n",
              "    <tr>\n",
              "      <th>45</th>\n",
              "      <td>Kelly, Icelita</td>\n",
              "      <td>Media Armoire</td>\n",
              "      <td>SW</td>\n",
              "      <td>Home Emporium</td>\n",
              "    </tr>\n",
              "    <tr>\n",
              "      <th>46</th>\n",
              "      <td>Livingston, Lynette</td>\n",
              "      <td>Chameleon Couch</td>\n",
              "      <td>NE</td>\n",
              "      <td>Home Emporium</td>\n",
              "    </tr>\n",
              "  </tbody>\n",
              "</table>\n",
              "</div>"
            ],
            "text/plain": [
              "                      0                    1   2                  3\n",
              "0          Owen, Robert      Chameleon Couch  SW      Home Emporium\n",
              "1          Owen, Robert      Chameleon Couch  SW      Home Emporium\n",
              "2           Leon, Emily        Media Armoire  SW  Ellington Designs\n",
              "3           Leon, Emily        Media Armoire  SW  Ellington Designs\n",
              "4        Vaughn, Harlon  Bamboo Coffee Table  NE         B&B Spaces\n",
              "5        Vaughn, Harlon  Bamboo Coffee Table  NE         B&B Spaces\n",
              "6        Vaughn, Harlon     Bamboo End Table  NE         B&B Spaces\n",
              "7        Vaughn, Harlon     Bamboo End Table  NE         B&B Spaces\n",
              "8        Kelly, Icelita     Bamboo End Table  SW         B&B Spaces\n",
              "9           Leon, Emily      Chameleon Couch  SW      Home Emporium\n",
              "10  Livingston, Lynette  Bamboo Coffee Table  NE           Home USA\n",
              "11          Leon, Emily      Chameleon Couch  SW  Ellington Designs\n",
              "12       Maynard, Susan     Bamboo End Table  NE         B&B Spaces\n",
              "13         Owen, Robert      Chameleon Couch  SW         B&B Spaces\n",
              "14       Vaughn, Harlon     Bamboo End Table  NE         B&B Spaces\n",
              "15  Livingston, Lynette      Chameleon Couch  NE      Home Emporium\n",
              "16  Livingston, Lynette      Chameleon Couch  NE         B&B Spaces\n",
              "17    Christensen, Jill  Bamboo Coffee Table  NW      Home Emporium\n",
              "18  Livingston, Lynette      Chameleon Couch  NE      Home Emporium\n",
              "19         Owen, Robert     Captain Recliner  SW         B&B Spaces\n",
              "20            Byrd, Asa     Captain Recliner  SE           Home USA\n",
              "21         Owen, Robert      Chameleon Couch  SW         B&B Spaces\n",
              "22       Kelly, Icelita     Captain Recliner  SW      Home Emporium\n",
              "23         Owen, Robert        Media Armoire  SW           Home USA\n",
              "24         Owen, Robert      Chameleon Couch  SW  Ellington Designs\n",
              "25         Norman, Rita  Bamboo Coffee Table  SE  Ellington Designs\n",
              "26       Maynard, Susan        Media Armoire  NE         B&B Spaces\n",
              "27         Norman, Rita     Bamboo End Table  SE           Home USA\n",
              "28         Owen, Robert     Bamboo End Table  SW  Ellington Designs\n",
              "29            Byrd, Asa  Bamboo Coffee Table  SE  Ellington Designs\n",
              "30         Owen, Robert        Media Armoire  SW     Fabulous Homes\n",
              "31       Kelly, Icelita      Chameleon Couch  SW  Ellington Designs\n",
              "32          Leon, Emily  Bamboo Coffee Table  SW           Home USA\n",
              "33       Vaughn, Harlon     Captain Recliner  NE     Fabulous Homes\n",
              "34          Leon, Emily     Captain Recliner  SW         B&B Spaces\n",
              "35    Christensen, Jill     Captain Recliner  NW      Home Emporium\n",
              "36          Leon, Emily     Captain Recliner  SW      Home Emporium\n",
              "37         Owen, Robert      Chameleon Couch  SW      Home Emporium\n",
              "38       Vaughn, Harlon        Media Armoire  NE  Ellington Designs\n",
              "39       Maynard, Susan      Chameleon Couch  NE  Ellington Designs\n",
              "40       Vaughn, Harlon     Bamboo End Table  NE  Ellington Designs\n",
              "41    Christensen, Jill     Bamboo End Table  NW     Fabulous Homes\n",
              "42  Livingston, Lynette     Captain Recliner  NE     Fabulous Homes\n",
              "43            Byrd, Asa     Bamboo End Table  SE  Ellington Designs\n",
              "44  Livingston, Lynette  Bamboo Coffee Table  NE           Home USA\n",
              "45       Kelly, Icelita        Media Armoire  SW      Home Emporium\n",
              "46  Livingston, Lynette      Chameleon Couch  NE      Home Emporium"
            ]
          },
          "metadata": {
            "tags": []
          },
          "execution_count": 81
        }
      ]
    },
    {
      "cell_type": "code",
      "metadata": {
        "id": "MNLv3D4wbq19",
        "colab_type": "code",
        "outputId": "5694712a-808e-4b2d-ee07-2606a545a4b2",
        "colab": {
          "base_uri": "https://localhost:8080/",
          "height": 407
        }
      },
      "source": [
        "df = furniture[0]\n",
        "for page in range(1,len(furniture)):\n",
        "  df = pd.concat([df, furniture[page]], axis=0)\n",
        "df"
      ],
      "execution_count": 0,
      "outputs": [
        {
          "output_type": "execute_result",
          "data": {
            "text/html": [
              "<div>\n",
              "<style scoped>\n",
              "    .dataframe tbody tr th:only-of-type {\n",
              "        vertical-align: middle;\n",
              "    }\n",
              "\n",
              "    .dataframe tbody tr th {\n",
              "        vertical-align: top;\n",
              "    }\n",
              "\n",
              "    .dataframe thead th {\n",
              "        text-align: right;\n",
              "    }\n",
              "</style>\n",
              "<table border=\"1\" class=\"dataframe\">\n",
              "  <thead>\n",
              "    <tr style=\"text-align: right;\">\n",
              "      <th></th>\n",
              "      <th>0</th>\n",
              "      <th>1</th>\n",
              "      <th>2</th>\n",
              "      <th>3</th>\n",
              "    </tr>\n",
              "  </thead>\n",
              "  <tbody>\n",
              "    <tr>\n",
              "      <th>0</th>\n",
              "      <td>Salesperson</td>\n",
              "      <td>Product</td>\n",
              "      <td>Region</td>\n",
              "      <td>Customer</td>\n",
              "    </tr>\n",
              "    <tr>\n",
              "      <th>1</th>\n",
              "      <td>Vaughn, Harlon</td>\n",
              "      <td>Captain Recliner</td>\n",
              "      <td>NE</td>\n",
              "      <td>B&amp;B Spaces</td>\n",
              "    </tr>\n",
              "    <tr>\n",
              "      <th>2</th>\n",
              "      <td>Norman, Rita</td>\n",
              "      <td>Media Armoire</td>\n",
              "      <td>SE</td>\n",
              "      <td>Home USA</td>\n",
              "    </tr>\n",
              "    <tr>\n",
              "      <th>3</th>\n",
              "      <td>Christensen, Jill</td>\n",
              "      <td>Bamboo End Table</td>\n",
              "      <td>NW</td>\n",
              "      <td>Ellington Designs</td>\n",
              "    </tr>\n",
              "    <tr>\n",
              "      <th>4</th>\n",
              "      <td>Norman, Rita</td>\n",
              "      <td>Bamboo Coffee Table</td>\n",
              "      <td>SE</td>\n",
              "      <td>Ellington Designs</td>\n",
              "    </tr>\n",
              "    <tr>\n",
              "      <th>...</th>\n",
              "      <td>...</td>\n",
              "      <td>...</td>\n",
              "      <td>...</td>\n",
              "      <td>...</td>\n",
              "    </tr>\n",
              "    <tr>\n",
              "      <th>14</th>\n",
              "      <td>Byrd, Asa</td>\n",
              "      <td>Media Armoire</td>\n",
              "      <td>SE</td>\n",
              "      <td>Home Emporium</td>\n",
              "    </tr>\n",
              "    <tr>\n",
              "      <th>15</th>\n",
              "      <td>Owen, Robert</td>\n",
              "      <td>Media Armoire</td>\n",
              "      <td>SW</td>\n",
              "      <td>Fabulous Homes</td>\n",
              "    </tr>\n",
              "    <tr>\n",
              "      <th>16</th>\n",
              "      <td>Christensen, Jill</td>\n",
              "      <td>Bamboo End Table</td>\n",
              "      <td>NW</td>\n",
              "      <td>Ellington Designs</td>\n",
              "    </tr>\n",
              "    <tr>\n",
              "      <th>17</th>\n",
              "      <td>Norman, Rita</td>\n",
              "      <td>Bamboo Coffee Table</td>\n",
              "      <td>SE</td>\n",
              "      <td>Home USA</td>\n",
              "    </tr>\n",
              "    <tr>\n",
              "      <th>18</th>\n",
              "      <td>Vaughn, Harlon</td>\n",
              "      <td>Captain Recliner</td>\n",
              "      <td>NE</td>\n",
              "      <td>Home USA</td>\n",
              "    </tr>\n",
              "  </tbody>\n",
              "</table>\n",
              "<p>910 rows × 4 columns</p>\n",
              "</div>"
            ],
            "text/plain": [
              "                    0                    1       2                  3\n",
              "0         Salesperson              Product  Region           Customer\n",
              "1      Vaughn, Harlon     Captain Recliner      NE         B&B Spaces\n",
              "2        Norman, Rita        Media Armoire      SE           Home USA\n",
              "3   Christensen, Jill     Bamboo End Table      NW  Ellington Designs\n",
              "4        Norman, Rita  Bamboo Coffee Table      SE  Ellington Designs\n",
              "..                ...                  ...     ...                ...\n",
              "14          Byrd, Asa        Media Armoire      SE      Home Emporium\n",
              "15       Owen, Robert        Media Armoire      SW     Fabulous Homes\n",
              "16  Christensen, Jill     Bamboo End Table      NW  Ellington Designs\n",
              "17       Norman, Rita  Bamboo Coffee Table      SE           Home USA\n",
              "18     Vaughn, Harlon     Captain Recliner      NE           Home USA\n",
              "\n",
              "[910 rows x 4 columns]"
            ]
          },
          "metadata": {
            "tags": []
          },
          "execution_count": 82
        }
      ]
    },
    {
      "cell_type": "code",
      "metadata": {
        "id": "nniYMxyTn0nF",
        "colab_type": "code",
        "colab": {}
      },
      "source": [
        "df.columns = df.iloc[0]\n",
        "df.drop(0, axis=0, inplace=True)\n",
        "df.reset_index().drop(columns=['index'], inplace=True)"
      ],
      "execution_count": 0,
      "outputs": []
    },
    {
      "cell_type": "code",
      "metadata": {
        "id": "_H5q1YFYyTpp",
        "colab_type": "code",
        "outputId": "b57bcbb0-69ae-4331-8000-4862fa9cbcbc",
        "colab": {
          "base_uri": "https://localhost:8080/",
          "height": 198
        }
      },
      "source": [
        "df.head()"
      ],
      "execution_count": 0,
      "outputs": [
        {
          "output_type": "execute_result",
          "data": {
            "text/html": [
              "<div>\n",
              "<style scoped>\n",
              "    .dataframe tbody tr th:only-of-type {\n",
              "        vertical-align: middle;\n",
              "    }\n",
              "\n",
              "    .dataframe tbody tr th {\n",
              "        vertical-align: top;\n",
              "    }\n",
              "\n",
              "    .dataframe thead th {\n",
              "        text-align: right;\n",
              "    }\n",
              "</style>\n",
              "<table border=\"1\" class=\"dataframe\">\n",
              "  <thead>\n",
              "    <tr style=\"text-align: right;\">\n",
              "      <th></th>\n",
              "      <th>Salesperson</th>\n",
              "      <th>Product</th>\n",
              "      <th>Region</th>\n",
              "      <th>Customer</th>\n",
              "    </tr>\n",
              "  </thead>\n",
              "  <tbody>\n",
              "    <tr>\n",
              "      <th>1</th>\n",
              "      <td>Vaughn, Harlon</td>\n",
              "      <td>Captain Recliner</td>\n",
              "      <td>NE</td>\n",
              "      <td>B&amp;B Spaces</td>\n",
              "    </tr>\n",
              "    <tr>\n",
              "      <th>2</th>\n",
              "      <td>Norman, Rita</td>\n",
              "      <td>Media Armoire</td>\n",
              "      <td>SE</td>\n",
              "      <td>Home USA</td>\n",
              "    </tr>\n",
              "    <tr>\n",
              "      <th>3</th>\n",
              "      <td>Christensen, Jill</td>\n",
              "      <td>Bamboo End Table</td>\n",
              "      <td>NW</td>\n",
              "      <td>Ellington Designs</td>\n",
              "    </tr>\n",
              "    <tr>\n",
              "      <th>4</th>\n",
              "      <td>Norman, Rita</td>\n",
              "      <td>Bamboo Coffee Table</td>\n",
              "      <td>SE</td>\n",
              "      <td>Ellington Designs</td>\n",
              "    </tr>\n",
              "    <tr>\n",
              "      <th>5</th>\n",
              "      <td>Byrd, Asa</td>\n",
              "      <td>Bamboo End Table</td>\n",
              "      <td>SE</td>\n",
              "      <td>B&amp;B Spaces</td>\n",
              "    </tr>\n",
              "  </tbody>\n",
              "</table>\n",
              "</div>"
            ],
            "text/plain": [
              "0        Salesperson              Product Region           Customer\n",
              "1     Vaughn, Harlon     Captain Recliner     NE         B&B Spaces\n",
              "2       Norman, Rita        Media Armoire     SE           Home USA\n",
              "3  Christensen, Jill     Bamboo End Table     NW  Ellington Designs\n",
              "4       Norman, Rita  Bamboo Coffee Table     SE  Ellington Designs\n",
              "5          Byrd, Asa     Bamboo End Table     SE         B&B Spaces"
            ]
          },
          "metadata": {
            "tags": []
          },
          "execution_count": 84
        }
      ]
    },
    {
      "cell_type": "code",
      "metadata": {
        "id": "5s6_NEFxyUbJ",
        "colab_type": "code",
        "colab": {}
      },
      "source": [
        "sales_by_person_region = pd.pivot_table(df, values='Product', index='Salesperson', columns='Region', aggfunc='count')"
      ],
      "execution_count": 0,
      "outputs": []
    },
    {
      "cell_type": "code",
      "metadata": {
        "id": "qoe4rzZ40XvA",
        "colab_type": "code",
        "outputId": "c574a620-3d65-4f52-f4f1-50b07f6e15bb",
        "colab": {
          "base_uri": "https://localhost:8080/",
          "height": 438
        }
      },
      "source": [
        "sales_by_person_region.fillna(0, inplace=True)\n",
        "sales_by_person_region"
      ],
      "execution_count": 0,
      "outputs": [
        {
          "output_type": "execute_result",
          "data": {
            "text/html": [
              "<div>\n",
              "<style scoped>\n",
              "    .dataframe tbody tr th:only-of-type {\n",
              "        vertical-align: middle;\n",
              "    }\n",
              "\n",
              "    .dataframe tbody tr th {\n",
              "        vertical-align: top;\n",
              "    }\n",
              "\n",
              "    .dataframe thead th {\n",
              "        text-align: right;\n",
              "    }\n",
              "</style>\n",
              "<table border=\"1\" class=\"dataframe\">\n",
              "  <thead>\n",
              "    <tr style=\"text-align: right;\">\n",
              "      <th>Region</th>\n",
              "      <th>NE</th>\n",
              "      <th>NW</th>\n",
              "      <th>SE</th>\n",
              "      <th>SW</th>\n",
              "    </tr>\n",
              "    <tr>\n",
              "      <th>Salesperson</th>\n",
              "      <th></th>\n",
              "      <th></th>\n",
              "      <th></th>\n",
              "      <th></th>\n",
              "    </tr>\n",
              "  </thead>\n",
              "  <tbody>\n",
              "    <tr>\n",
              "      <th>Arnold, Cole</th>\n",
              "      <td>51.0</td>\n",
              "      <td>18.0</td>\n",
              "      <td>0.0</td>\n",
              "      <td>0.0</td>\n",
              "    </tr>\n",
              "    <tr>\n",
              "      <th>Byrd, Asa</th>\n",
              "      <td>0.0</td>\n",
              "      <td>0.0</td>\n",
              "      <td>58.0</td>\n",
              "      <td>0.0</td>\n",
              "    </tr>\n",
              "    <tr>\n",
              "      <th>Christensen, Jill</th>\n",
              "      <td>0.0</td>\n",
              "      <td>96.0</td>\n",
              "      <td>0.0</td>\n",
              "      <td>0.0</td>\n",
              "    </tr>\n",
              "    <tr>\n",
              "      <th>Kelly, Icelita</th>\n",
              "      <td>0.0</td>\n",
              "      <td>0.0</td>\n",
              "      <td>0.0</td>\n",
              "      <td>78.0</td>\n",
              "    </tr>\n",
              "    <tr>\n",
              "      <th>Leon, Emily</th>\n",
              "      <td>0.0</td>\n",
              "      <td>0.0</td>\n",
              "      <td>0.0</td>\n",
              "      <td>63.0</td>\n",
              "    </tr>\n",
              "    <tr>\n",
              "      <th>Livingston, Lynette</th>\n",
              "      <td>53.0</td>\n",
              "      <td>0.0</td>\n",
              "      <td>0.0</td>\n",
              "      <td>0.0</td>\n",
              "    </tr>\n",
              "    <tr>\n",
              "      <th>Lucas, John</th>\n",
              "      <td>0.0</td>\n",
              "      <td>0.0</td>\n",
              "      <td>0.0</td>\n",
              "      <td>51.0</td>\n",
              "    </tr>\n",
              "    <tr>\n",
              "      <th>Maynard, Susan</th>\n",
              "      <td>83.0</td>\n",
              "      <td>0.0</td>\n",
              "      <td>0.0</td>\n",
              "      <td>0.0</td>\n",
              "    </tr>\n",
              "    <tr>\n",
              "      <th>McCullough, Scott</th>\n",
              "      <td>0.0</td>\n",
              "      <td>56.0</td>\n",
              "      <td>0.0</td>\n",
              "      <td>0.0</td>\n",
              "    </tr>\n",
              "    <tr>\n",
              "      <th>Norman, Rita</th>\n",
              "      <td>0.0</td>\n",
              "      <td>0.0</td>\n",
              "      <td>73.0</td>\n",
              "      <td>0.0</td>\n",
              "    </tr>\n",
              "    <tr>\n",
              "      <th>Owen, Robert</th>\n",
              "      <td>0.0</td>\n",
              "      <td>0.0</td>\n",
              "      <td>0.0</td>\n",
              "      <td>93.0</td>\n",
              "    </tr>\n",
              "    <tr>\n",
              "      <th>Vaughn, Harlon</th>\n",
              "      <td>117.0</td>\n",
              "      <td>0.0</td>\n",
              "      <td>0.0</td>\n",
              "      <td>0.0</td>\n",
              "    </tr>\n",
              "  </tbody>\n",
              "</table>\n",
              "</div>"
            ],
            "text/plain": [
              "Region                  NE    NW    SE    SW\n",
              "Salesperson                                 \n",
              "Arnold, Cole          51.0  18.0   0.0   0.0\n",
              "Byrd, Asa              0.0   0.0  58.0   0.0\n",
              "Christensen, Jill      0.0  96.0   0.0   0.0\n",
              "Kelly, Icelita         0.0   0.0   0.0  78.0\n",
              "Leon, Emily            0.0   0.0   0.0  63.0\n",
              "Livingston, Lynette   53.0   0.0   0.0   0.0\n",
              "Lucas, John            0.0   0.0   0.0  51.0\n",
              "Maynard, Susan        83.0   0.0   0.0   0.0\n",
              "McCullough, Scott      0.0  56.0   0.0   0.0\n",
              "Norman, Rita           0.0   0.0  73.0   0.0\n",
              "Owen, Robert           0.0   0.0   0.0  93.0\n",
              "Vaughn, Harlon       117.0   0.0   0.0   0.0"
            ]
          },
          "metadata": {
            "tags": []
          },
          "execution_count": 116
        }
      ]
    },
    {
      "cell_type": "code",
      "metadata": {
        "id": "abzQKqdJ36ab",
        "colab_type": "code",
        "outputId": "cadd6183-a5b8-4ce3-b653-de01084f3399",
        "colab": {
          "base_uri": "https://localhost:8080/",
          "height": 615
        }
      },
      "source": [
        "sales_by_person_region.plot(kind='barh', figsize=(15, 10), fontsize=14)"
      ],
      "execution_count": 0,
      "outputs": [
        {
          "output_type": "execute_result",
          "data": {
            "text/plain": [
              "<matplotlib.axes._subplots.AxesSubplot at 0x7f6be5e9f0b8>"
            ]
          },
          "metadata": {
            "tags": []
          },
          "execution_count": 131
        },
        {
          "output_type": "display_data",
          "data": {
            "image/png": "[encoded data removed]",
            "text/plain": [
              "<Figure size 1080x720 with 1 Axes>"
            ]
          },
          "metadata": {
            "tags": [],
            "needs_background": "light"
          }
        }
      ]
    },
    {
      "cell_type": "code",
      "metadata": {
        "id": "-3sKm0y8YJmJ",
        "colab_type": "code",
        "outputId": "0387e865-f1db-48db-8d67-e3548b17ef14",
        "colab": {
          "base_uri": "https://localhost:8080/",
          "height": 438
        }
      },
      "source": [
        "sales_by_person_customer = pd.pivot_table(df, values='Product', index='Salesperson', columns='Customer', aggfunc='count')\n",
        "sales_by_person_customer.fillna(0, inplace=True)\n",
        "sales_by_person_customer"
      ],
      "execution_count": 0,
      "outputs": [
        {
          "output_type": "execute_result",
          "data": {
            "text/html": [
              "<div>\n",
              "<style scoped>\n",
              "    .dataframe tbody tr th:only-of-type {\n",
              "        vertical-align: middle;\n",
              "    }\n",
              "\n",
              "    .dataframe tbody tr th {\n",
              "        vertical-align: top;\n",
              "    }\n",
              "\n",
              "    .dataframe thead th {\n",
              "        text-align: right;\n",
              "    }\n",
              "</style>\n",
              "<table border=\"1\" class=\"dataframe\">\n",
              "  <thead>\n",
              "    <tr style=\"text-align: right;\">\n",
              "      <th>Customer</th>\n",
              "      <th>B&amp;B Spaces</th>\n",
              "      <th>Ellington Designs</th>\n",
              "      <th>Fabulous Homes</th>\n",
              "      <th>Home Emporium</th>\n",
              "      <th>Home USA</th>\n",
              "    </tr>\n",
              "    <tr>\n",
              "      <th>Salesperson</th>\n",
              "      <th></th>\n",
              "      <th></th>\n",
              "      <th></th>\n",
              "      <th></th>\n",
              "      <th></th>\n",
              "    </tr>\n",
              "  </thead>\n",
              "  <tbody>\n",
              "    <tr>\n",
              "      <th>Arnold, Cole</th>\n",
              "      <td>14</td>\n",
              "      <td>14</td>\n",
              "      <td>11</td>\n",
              "      <td>14</td>\n",
              "      <td>16</td>\n",
              "    </tr>\n",
              "    <tr>\n",
              "      <th>Byrd, Asa</th>\n",
              "      <td>12</td>\n",
              "      <td>11</td>\n",
              "      <td>9</td>\n",
              "      <td>17</td>\n",
              "      <td>9</td>\n",
              "    </tr>\n",
              "    <tr>\n",
              "      <th>Christensen, Jill</th>\n",
              "      <td>19</td>\n",
              "      <td>20</td>\n",
              "      <td>19</td>\n",
              "      <td>18</td>\n",
              "      <td>20</td>\n",
              "    </tr>\n",
              "    <tr>\n",
              "      <th>Kelly, Icelita</th>\n",
              "      <td>13</td>\n",
              "      <td>16</td>\n",
              "      <td>18</td>\n",
              "      <td>13</td>\n",
              "      <td>18</td>\n",
              "    </tr>\n",
              "    <tr>\n",
              "      <th>Leon, Emily</th>\n",
              "      <td>15</td>\n",
              "      <td>15</td>\n",
              "      <td>20</td>\n",
              "      <td>5</td>\n",
              "      <td>8</td>\n",
              "    </tr>\n",
              "    <tr>\n",
              "      <th>Livingston, Lynette</th>\n",
              "      <td>13</td>\n",
              "      <td>7</td>\n",
              "      <td>12</td>\n",
              "      <td>7</td>\n",
              "      <td>14</td>\n",
              "    </tr>\n",
              "    <tr>\n",
              "      <th>Lucas, John</th>\n",
              "      <td>16</td>\n",
              "      <td>12</td>\n",
              "      <td>8</td>\n",
              "      <td>9</td>\n",
              "      <td>6</td>\n",
              "    </tr>\n",
              "    <tr>\n",
              "      <th>Maynard, Susan</th>\n",
              "      <td>19</td>\n",
              "      <td>19</td>\n",
              "      <td>10</td>\n",
              "      <td>18</td>\n",
              "      <td>17</td>\n",
              "    </tr>\n",
              "    <tr>\n",
              "      <th>McCullough, Scott</th>\n",
              "      <td>7</td>\n",
              "      <td>11</td>\n",
              "      <td>12</td>\n",
              "      <td>14</td>\n",
              "      <td>12</td>\n",
              "    </tr>\n",
              "    <tr>\n",
              "      <th>Norman, Rita</th>\n",
              "      <td>12</td>\n",
              "      <td>12</td>\n",
              "      <td>15</td>\n",
              "      <td>17</td>\n",
              "      <td>17</td>\n",
              "    </tr>\n",
              "    <tr>\n",
              "      <th>Owen, Robert</th>\n",
              "      <td>17</td>\n",
              "      <td>19</td>\n",
              "      <td>17</td>\n",
              "      <td>18</td>\n",
              "      <td>22</td>\n",
              "    </tr>\n",
              "    <tr>\n",
              "      <th>Vaughn, Harlon</th>\n",
              "      <td>30</td>\n",
              "      <td>22</td>\n",
              "      <td>21</td>\n",
              "      <td>20</td>\n",
              "      <td>24</td>\n",
              "    </tr>\n",
              "  </tbody>\n",
              "</table>\n",
              "</div>"
            ],
            "text/plain": [
              "Customer             B&B Spaces  Ellington Designs  ...  Home Emporium  Home USA\n",
              "Salesperson                                         ...                         \n",
              "Arnold, Cole                 14                 14  ...             14        16\n",
              "Byrd, Asa                    12                 11  ...             17         9\n",
              "Christensen, Jill            19                 20  ...             18        20\n",
              "Kelly, Icelita               13                 16  ...             13        18\n",
              "Leon, Emily                  15                 15  ...              5         8\n",
              "Livingston, Lynette          13                  7  ...              7        14\n",
              "Lucas, John                  16                 12  ...              9         6\n",
              "Maynard, Susan               19                 19  ...             18        17\n",
              "McCullough, Scott             7                 11  ...             14        12\n",
              "Norman, Rita                 12                 12  ...             17        17\n",
              "Owen, Robert                 17                 19  ...             18        22\n",
              "Vaughn, Harlon               30                 22  ...             20        24\n",
              "\n",
              "[12 rows x 5 columns]"
            ]
          },
          "metadata": {
            "tags": []
          },
          "execution_count": 122
        }
      ]
    },
    {
      "cell_type": "code",
      "metadata": {
        "id": "g9d4lw_FYfaj",
        "colab_type": "code",
        "outputId": "9347c23d-d297-4476-ba23-39830f7e07b1",
        "colab": {
          "base_uri": "https://localhost:8080/",
          "height": 615
        }
      },
      "source": [
        "sales_by_person_customer.plot(kind='barh', figsize=(15, 10), fontsize=14)\n"
      ],
      "execution_count": 0,
      "outputs": [
        {
          "output_type": "execute_result",
          "data": {
            "text/plain": [
              "<matplotlib.axes._subplots.AxesSubplot at 0x7f6be5b99470>"
            ]
          },
          "metadata": {
            "tags": []
          },
          "execution_count": 130
        },
        {
          "output_type": "display_data",
          "data": {
            "image/png": "[encoded data removed]",
            "text/plain": [
              "<Figure size 1080x720 with 1 Axes>"
            ]
          },
          "metadata": {
            "tags": [],
            "needs_background": "light"
          }
        }
      ]
    },
    {
      "cell_type": "markdown",
      "metadata": {
        "id": "Se1GNJPfuQgW",
        "colab_type": "text"
      },
      "source": [
        "What if you eanted to convert a pdf file to a csv of excel file? Tabula offers the option to convert into "
      ]
    },
    {
      "cell_type": "code",
      "metadata": {
        "id": "FoBYwoGtZCqD",
        "colab_type": "code",
        "colab": {}
      },
      "source": [
        ""
      ],
      "execution_count": 0,
      "outputs": []
    },
    {
      "cell_type": "markdown",
      "metadata": {
        "id": "Mp3bTRxdvwUz",
        "colab_type": "text"
      },
      "source": [
        "**Loading PDFs into Python environment**\n",
        "\n",
        "Let us look at a different library for loading pdf content, especially if you are looking at text analysis and Natural Language Processing (NLP).\n",
        "\n",
        "The PyPDF2 library offers the opportunity to do this. Let us see this at work"
      ]
    },
    {
      "cell_type": "code",
      "metadata": {
        "id": "chUyzp92wXPK",
        "colab_type": "code",
        "outputId": "b01bf766-f7b1-487a-f751-431de08d49b1",
        "colab": {
          "base_uri": "https://localhost:8080/",
          "height": 1000
        }
      },
      "source": [
        "import PyPDF2 as pp\n",
        "\n",
        "# create a pdf reader object\n",
        "pdf_file = open(\"occupational-brief-data-analyst.pdf\", \"rb\")\n",
        "\n",
        "# create a reader object from the PyPDF2 library\n",
        "# this read the content of thepdf file into a reader object\n",
        "# that we can interact with.\n",
        "pdf_reader = pp.PdfFileReader(pdf_file)\n",
        "\n",
        "# now that we have a pdf reader, we can do all sort such as \n",
        "# 1. get the number of pages in the pdf file\n",
        "num_pages = pdf_reader.numPages \n",
        "print(f\"The number of pages in the file is: {num_pages}\")\n",
        "print(\"=================================================\")\n",
        "\n",
        "# 2. Slice a page from the pdf file\n",
        "new_page = pdf_reader.getPage(1) # pages are zero index\n",
        "\n",
        "\n",
        "# 3. Extract the content of the page\n",
        "content = new_page.extractText()\n",
        "print(content)\n",
        "\n",
        "pdf_file.close()"
      ],
      "execution_count": 0,
      "outputs": [
        {
          "output_type": "stream",
          "text": [
            "The number of pages in the file is: 13\n",
            "=================================================\n",
            "[Type here]\n",
            " \n",
            " \n",
            "Page \n",
            "1\n",
            " \n",
            " \n",
            " \n",
            "Digital Industries Apprenticeships\n",
            ": Occupational Brief\n",
            " \n",
            "Level 4 \n",
            "Data Analyst \n",
            "Apprenticeship\n",
            " \n",
            "Minimum Standards\n",
            " \n",
            "and Grading Crit\n",
            "eria \n",
            " \n",
            "This paper defines the minimum r\n",
            "equirements for the knowledge, skills and behaviours defined in the standard, which are required for a pass.   It also \n",
            "defines the criteria to be used for awarding the grade for merit or distinction.  \n",
            "This paper should be read in conjunction with the Stand\n",
            "ard and \n",
            "A\n",
            "ssessment Plan for the Level 4 Data Analyst \n",
            "Apprenticeship\n",
            " \n",
            "Overview of Grading  \n",
            " \n",
            "There are three sets of criteria on which the assessment and grading is made.  The three criteria are \n",
            " \n",
            "The What: what the apprentice has shown they can do,\n",
            " \n",
            "The How: t\n",
            "he way in which the work has been done\n",
            " \n",
            "The With Whom: The personal and interpersonal qualities the apprentice has brought to all their work relationships\n",
            " \n",
            "Each of these three criteria has minimum (expected) requirements, which must be satisfied for a pass.\n",
            " \n",
            "Each of these criteria has a number of dimensions which should be considered to determine if the apprentice is significantly \n",
            "above the minimum \n",
            "(expected) level of quality \n",
            " \n",
            "The purpose of grading is to differentiate between those apprentices whose work is a\n",
            "t the expected level of quality against the totality of the skills, \n",
            "knowledge and behaviours specified in the standard and those whose work is significantly above this expected level\n",
            " \n",
            "For a pass, \n",
            "each \n",
            "of the three sets of criteria must demonstrate at least \n",
            "the expected (minimum requirement) level\n",
            " \n",
            "of quality\n",
            " \n",
            "For a merit, t\n",
            "he What has to be significantly above\n",
            " \n",
            "the level of quality and \n",
            "one of\n",
            " \n",
            "either the How or the With Whom has to be significantly above\n",
            " \n",
            "the level of quality expected\n",
            " \n",
            "For a distinction, \n",
            "each of t\n",
            "he three sets of criteria must be significantly above the expected\n",
            " \n",
            "level of quality \n",
            " \n",
            "\n",
            " \n",
            "above the expected level \n",
            "\n",
            "of these three areas and can then determine which grade should \n",
            "be\n",
            " \n",
            "awarded\n",
            " \n",
            " \n",
            "\n"
          ],
          "name": "stdout"
        }
      ]
    },
    {
      "cell_type": "code",
      "metadata": {
        "id": "lSoLAg4GzMKp",
        "colab_type": "code",
        "outputId": "ccfa09cd-7c0a-422d-af25-4968402433cd",
        "colab": {
          "base_uri": "https://localhost:8080/",
          "height": 36
        }
      },
      "source": [
        "len(content)"
      ],
      "execution_count": 0,
      "outputs": [
        {
          "output_type": "execute_result",
          "data": {
            "text/plain": [
              "1990"
            ]
          },
          "metadata": {
            "tags": []
          },
          "execution_count": 12
        }
      ]
    },
    {
      "cell_type": "code",
      "metadata": {
        "id": "xRvsm_8jz9wU",
        "colab_type": "code",
        "colab": {}
      },
      "source": [
        ""
      ],
      "execution_count": 0,
      "outputs": []
    }
  ]
}